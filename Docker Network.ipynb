{
 "cells": [
  {
   "cell_type": "markdown",
   "metadata": {},
   "source": [
    "# 1. ¿Cual es la red por defecto?"
   ]
  },
  {
   "cell_type": "markdown",
   "metadata": {},
   "source": [
    "Corremos el comando para determinar al red por defecto de docker\n",
    "\n",
    "- ip a | grep docker"
   ]
  },
  {
   "cell_type": "markdown",
   "metadata": {},
   "source": [
    "![](images/red.png)"
   ]
  },
  {
   "cell_type": "markdown",
   "metadata": {},
   "source": [
    "La red por defecto es entonces 127.17.0.1/16 \"Gateway\""
   ]
  },
  {
   "cell_type": "markdown",
   "metadata": {},
   "source": [
    "Si no especificamos el red al momento de crea un contenedor, este tomara por defecto la red <b>Bridge</b>"
   ]
  },
  {
   "cell_type": "markdown",
   "metadata": {},
   "source": [
    "Para ver la red a la que esta asociado un contenedor ejecutamos el comando:\n",
    "\n",
    "- docker inspect <\"CONTAINER_NAME\">"
   ]
  },
  {
   "cell_type": "markdown",
   "metadata": {},
   "source": [
    "Como vemos este contenedor tiene asociada la red bridge, la dirección IP del contenedor es la 172.17.0.3 y la red por defecto es la 172.17.0.1"
   ]
  },
  {
   "cell_type": "markdown",
   "metadata": {},
   "source": [
    "![](images/red_container.png)"
   ]
  },
  {
   "cell_type": "markdown",
   "metadata": {},
   "source": [
    "Si corremos otro contenedor este se levantara por otra dirección IP, en este caso es la 172.17.0.2 "
   ]
  },
  {
   "cell_type": "markdown",
   "metadata": {},
   "source": [
    "![](images/red_2.png)"
   ]
  },
  {
   "cell_type": "markdown",
   "metadata": {},
   "source": [
    "Como ambos se encuentran dentro de la misma red, entonces podemos hacer PIN de una IP a otra siempre y cuando esten dentro de la misma red <b>Bridge</b>"
   ]
  },
  {
   "cell_type": "markdown",
   "metadata": {},
   "source": [
    "Ejemplo: hacemos pin al dirección IP ...0.2 desde un contenedor llamado silly_poincare, el cual se encuentra por la IP .....0.3\n",
    "\n",
    "- docker exec silly_poincare bash -c \"ping 172.17.0.2\""
   ]
  },
  {
   "cell_type": "markdown",
   "metadata": {},
   "source": [
    "![](images/ping.png)"
   ]
  },
  {
   "cell_type": "markdown",
   "metadata": {},
   "source": [
    "# 2. Crear una red definida por el usuario"
   ]
  },
  {
   "cell_type": "markdown",
   "metadata": {},
   "source": [
    "Para crear una red usamos el comando \n",
    "\n",
    "- docker network <\"NETWORK_NAME\">\n",
    "\n",
    "Para ver las redes creadas\n",
    "\n",
    "- docker ls \n"
   ]
  },
  {
   "cell_type": "markdown",
   "metadata": {},
   "source": [
    "![](images/Red_Network.png)"
   ]
  },
  {
   "cell_type": "markdown",
   "metadata": {},
   "source": [
    "Definir el DRIVER y una <b>SUBNET</b> y GATEWAYE al momento de crear la red\n",
    "\n",
    "- docker network create -d bridge --subnet <\"IP/MASCARA(24)\"> --gateway <\"IP.....1\"> <\"NETWORK_NAME\">\n",
    "\n",
    "Ejemplo \n",
    "\n",
    "- docker network create -d bridge --subnet 172.124.10.0/24 --gateway 172.124.10.1 docker-test-network"
   ]
  },
  {
   "cell_type": "markdown",
   "metadata": {},
   "source": [
    "# 3. Inspeccionar redes\n",
    "\n",
    "- docker network inspect <\"NETWORK_NAME\">"
   ]
  },
  {
   "cell_type": "code",
   "execution_count": null,
   "metadata": {},
   "outputs": [],
   "source": []
  }
 ],
 "metadata": {
  "kernelspec": {
   "display_name": "Python 3",
   "language": "python",
   "name": "python3"
  },
  "language_info": {
   "codemirror_mode": {
    "name": "ipython",
    "version": 3
   },
   "file_extension": ".py",
   "mimetype": "text/x-python",
   "name": "python",
   "nbconvert_exporter": "python",
   "pygments_lexer": "ipython3",
   "version": "3.7.5"
  }
 },
 "nbformat": 4,
 "nbformat_minor": 2
}

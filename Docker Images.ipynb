{
 "cells": [
  {
   "cell_type": "markdown",
   "metadata": {},
   "source": [
    "# 1. Imagenes Oficiales"
   ]
  },
  {
   "cell_type": "markdown",
   "metadata": {},
   "source": [
    "Las imagenes se almacenan en https://hub.docker.com/\n",
    "\n",
    "Ejemplo imagen con mongo\n",
    "\n",
    "- https://hub.docker.com/_/mongo\n",
    "\n",
    "docker pull mongo"
   ]
  },
  {
   "cell_type": "markdown",
   "metadata": {},
   "source": [
    "![](images/tag_image.png)"
   ]
  },
  {
   "cell_type": "markdown",
   "metadata": {},
   "source": [
    "<b>Tag:</b> es una etiqueta que nos indica la versión de la imagen"
   ]
  },
  {
   "cell_type": "markdown",
   "metadata": {},
   "source": [
    "### Descargar imagenes oficiales"
   ]
  },
  {
   "cell_type": "markdown",
   "metadata": {},
   "source": [
    "docker pull <\"NAME\"> <\"TAG\">\n",
    "\n",
    "Ejemplo:\n",
    "\n",
    "- docker pull mongo\n",
    "- docker pull mysql\n"
   ]
  },
  {
   "cell_type": "markdown",
   "metadata": {},
   "source": [
    "### Listar imagenes\n",
    "\n",
    "- docker images\n",
    "- docker images | grep mysql #versiones"
   ]
  },
  {
   "cell_type": "markdown",
   "metadata": {},
   "source": [
    "# 2. Crear imagenes oficiales"
   ]
  },
  {
   "cell_type": "markdown",
   "metadata": {},
   "source": [
    "1. Creamos el Dockerfile\n",
    "\n",
    "2. creamos las capas\n",
    "\n",
    "    FROM centos\n",
    "\n",
    "    RUN yum install httpd -y # \"-y\" afirmativo para todo en el proceso de instalación (instala apache)\n",
    "3. contruimos la imagen con el comando\n",
    "    - docker build --tag <\"IMAGE-NAME\">:<\"TAG-NAME\"> .  # Con el . indicamos que el dockerfile se encuentra en el directorio"
   ]
  },
  {
   "cell_type": "markdown",
   "metadata": {},
   "source": [
    "![](images/docker_build.png)"
   ]
  },
  {
   "cell_type": "markdown",
   "metadata": {},
   "source": [
    "# 3. Crear contenedor con base en la imagen"
   ]
  },
  {
   "cell_type": "markdown",
   "metadata": {},
   "source": [
    "Para poder listar contenedores\n",
    "\n",
    "- docker ps\n",
    "- docker ps -a # Lista los activos\n",
    "\n",
    "\n",
    "### Nota:\n",
    "Para que los contenedores no mueran al contruirlos se debe implementar la capa <b>CMD</b> en el docker file, ejemplo:\n",
    "    - CMD apachectl -DFOREGROUND  #correr el servicio de apache en primer plano\n",
    "    \n",
    "Luego de agregarle la capa debemos volver a construir la imagen y luego ya podremos contruir el contenedor"
   ]
  },
  {
   "cell_type": "markdown",
   "metadata": {},
   "source": [
    "### RUN container\n",
    "\n",
    "  -<b>Command</b>: docker run -d --name <\"CONTAINER-NAME\"> <\"IMAGE-NAME\">:<\"TAG-NAME\">\n",
    "\n",
    "Ejemplo:\n",
    "\n",
    "    - docker run -d --name apache apache-centos:apache-cmd"
   ]
  },
  {
   "cell_type": "markdown",
   "metadata": {},
   "source": [
    "![](images/docker_run.png)"
   ]
  },
  {
   "cell_type": "markdown",
   "metadata": {},
   "source": [
    "Contenedores activos"
   ]
  },
  {
   "cell_type": "markdown",
   "metadata": {},
   "source": [
    "![](images/docker_ps.png)"
   ]
  },
  {
   "cell_type": "markdown",
   "metadata": {},
   "source": [
    "### Correr por un purto especifico\n",
    "\n",
    "- docker run -d -p 80:80 <\"CONTAINER_NAME\"> <\"IMAGE_NAME\">:<\"TAG\">\n",
    "- Ejemplo: docker run -d -p 80:80 apache1 apache-centos:apache-cmd"
   ]
  },
  {
   "cell_type": "markdown",
   "metadata": {},
   "source": [
    "### Eliminar containers\n",
    "\n",
    "    - docker rm -fv <\"CONTAINER_NAME\">"
   ]
  },
  {
   "cell_type": "markdown",
   "metadata": {},
   "source": [
    "# 4. DOCKER FILE"
   ]
  },
  {
   "cell_type": "markdown",
   "metadata": {},
   "source": [
    "![](images/docker_File.png)"
   ]
  },
  {
   "cell_type": "markdown",
   "metadata": {},
   "source": [
    "### COPY \n",
    "copiar archivos a la imagen  \n",
    "ADD: tambien cumple la función de copy pero con la ventaja que podemos usar urls y este comando descarga el contenido de la web.\n",
    "\n",
    "Ejemplos:\n",
    "\n",
    "- FROM centos\n",
    "\n",
    "- RUN yum install httpd -y\n",
    "\n",
    "- COPY frontend /var/www/html\n",
    "\n",
    "- CMD apachectl -DFOREGROUND\n",
    "\n",
    "### ADD\n",
    "\n",
    "- FROM centos\n",
    "\n",
    "- RUN yum install httpd -y\n",
    "\n",
    "- ADD frontend /var/www/html\n",
    "\n",
    "- CMD apachectl -DFOREGROUND"
   ]
  },
  {
   "cell_type": "markdown",
   "metadata": {},
   "source": [
    "### ENV\n",
    "\n",
    "Sirve para agregar variables de entornos\n",
    "\n",
    "- ENV <\"name\"> <\"content\">, ejemplo: ENV contenido prueba\n",
    "\n",
    "Para usar las variables de entorno usamos $, ejemplo: \n",
    "\n",
    "\n",
    "- RUN echo \"$contenido\" > /var/www/html/prueba.html, estamos creando un html con el contenido de la variable de entorno llamada contenido.\n",
    "\n",
    "\n",
    "### WORKDIR\n",
    "\n",
    "Sirve para definir donde vamos a trabajar dentro de la imagen, ejemplo:\n",
    "   \n",
    "- FROM centos\n",
    "\n",
    "- RUN yum install httpd -y\n",
    "\n",
    "- WORKDIR /var/www/html\n",
    "\n",
    "- COPY frontend .\n",
    "\n",
    "### EXPOSE\n",
    "\n",
    "sirve para exponer puertos"
   ]
  },
  {
   "cell_type": "markdown",
   "metadata": {},
   "source": [
    "### LABEL\n",
    "Sirve para dar metadata a la imagen, usualmente se colocan iniciando el docker file(luego de FROM).\n",
    "\n",
    "- LABEL version=1.0 \n",
    "- LABEL description=\"This is an apache image\"\n",
    "\n",
    "### USER\n",
    "Definir el usuario con el cual se ejecutan los comandos de la imagen, ejemplo:\n",
    "Nota: El usuario debe existir antes de ser utilizado\n",
    "\n",
    "- RUN useradd josearangos\n",
    "- USER josearangos\n",
    "- ... # Todas los comandos que se ejecuten de aquí en adelante seran con el usuario josearangos.\n",
    "\n",
    "\n",
    "Ejemplo completo: \n",
    "\n",
    "FROM centos\n",
    "\n",
    "RUN yum install httpd -y\n",
    "\n",
    "WORKDIR /var/www/html\n",
    "\n",
    "COPY frontend .\n",
    "\n",
    "RUN echo \"$(whoami)\" > /var/www/html/user1.html\n",
    "\n",
    "RUN useradd josearangos\n",
    "\n",
    "USER josearangos\n",
    "\n",
    "RUN echo \"$(whoami)\" > /tmp/user2.html\n",
    "\n",
    "USER root\n",
    "\n",
    "RUN cp /tmp/user2.html /var/www/html/user2.html\n",
    "\n",
    "CMD apachectl -DFOREGROUND\n",
    "\n",
    "\n",
    "### VOLUME\n",
    "Forma de colocar la data persistente dentro del contenedor, para cuando este se elime se conserve.\n",
    "Ejemplo:\n",
    "\n",
    "- VOLUMEN /var/www/html\n",
    "\n",
    "\n",
    "### CMD\n",
    "Comando que mantiene vivo el contenedor, puede ser un script.\n",
    "\n",
    "COPY run.sh /run.sh\n",
    "\n",
    "CMD sh /run.sh\n",
    "\n",
    "\n",
    "### Git Ignore \n",
    "Es usado para ignorar archivos o carpetas al momento de construir la images.\n",
    "<b>Nota:</b> al momento de construir la imagen se recomienda tener solo los archivos necesario en el folder que contiene el dockerfile.\n",
    "\n",
    "- .dockerignore\n",
    "- se coloca el nombre de los archivos"
   ]
  },
  {
   "cell_type": "markdown",
   "metadata": {},
   "source": [
    "# Logs de un contenedor."
   ]
  },
  {
   "cell_type": "markdown",
   "metadata": {},
   "source": [
    "docker logs -f <\"CONTAINER_NAME\">"
   ]
  },
  {
   "cell_type": "markdown",
   "metadata": {},
   "source": [
    "## Ejemplo con todo \n",
    "\n",
    "\n",
    "FROM nginx\n",
    "\n",
    "RUN useradd josearangos\n",
    "\n",
    "COPY frontend /usr/share/nginx/html\n",
    "\n",
    "ENV archivo docker\n",
    "\n",
    "WORKDIR /usr/share/nginx/html\n",
    "\n",
    "RUN echo \"$archivo\" > /usr/share/nginx/html/env.html\n",
    "\n",
    "EXPOSE 90\n",
    "\n",
    "LABEL version=2.3\n",
    "\n",
    "USER josearangos\n",
    "\n",
    "RUN echo \"I'm $(whoami)\" > /tmp/iam.html\n",
    "\n",
    "USER root\n",
    "\n",
    "RUN cp /tmp/iam.html /usr/share/nginx/html/docker.html\n",
    "\n",
    "VOLUME /var/log/nginx\n",
    "\n",
    "CMD nginx -g 'daemon off;'"
   ]
  },
  {
   "cell_type": "markdown",
   "metadata": {},
   "source": [
    "# Buenas Prácticas"
   ]
  },
  {
   "cell_type": "markdown",
   "metadata": {},
   "source": [
    "1. Efimero: Se debe permitir destruir con facilidad. \n",
    "2. Un solo servicio por contenedor (No se recomiendo un contenedor con dos imagenes(Apache/MySQL juntos ejemplo NO recomendado))\n",
    "3. Build context ->.dockerignore Solo usar lo necesario (agregar archivos pesados)\n",
    "4. Usar pocas capas\n",
    "5. Varios argumentos en un sola capa\n",
    "6. No instalar paquetes innecesarios.\n",
    "7. Usar Labels"
   ]
  },
  {
   "cell_type": "markdown",
   "metadata": {},
   "source": [
    "![]()"
   ]
  },
  {
   "cell_type": "markdown",
   "metadata": {},
   "source": [
    "Ejemplo: Usar la misma capa\n",
    "\n",
    "FROM nginx\n",
    "\n",
    "RUN \\ \n",
    "    echo \"1\" >> /usr/share/nginx/html/test.txt && \\\n",
    "    echo \"2\" >> /usr/share/nginx/html/test.txt && \\\n",
    "    echo \"3\" >> /usr/share/nginx/html/test.txt\n",
    "\n",
    "Se uso el \"&&\" para que ejecutar en 1 sola capa 3 comandos  y \"\\\" para mejorar la visualización de las instrucciones en el Docker file.\n",
    "\n",
    "Mejora usando ENV\n",
    "\n",
    "FROM nginx\n",
    "\n",
    "ENV dir /usr/share/nginx/html/test.txt\n",
    "\n",
    "RUN \\\n",
    "    \n",
    "    - echo \"1\" >> $dir && \\\n",
    "    \n",
    "    - echo \"2\" >> $dir && \\\n",
    "    \n",
    "    - echo \"3\" >> $dir && \\"
   ]
  },
  {
   "cell_type": "markdown",
   "metadata": {},
   "source": [
    "![](images/buenas_practicas.png)"
   ]
  },
  {
   "cell_type": "markdown",
   "metadata": {},
   "source": [
    "# Eliminar una Imagen\n",
    "\n",
    "- docker rmi <\"IMAGE_NAME>:<\"TAG\">"
   ]
  },
  {
   "cell_type": "markdown",
   "metadata": {},
   "source": [
    "### Cambiar el nombre del dockerfile\n",
    "\n",
    "Supongamos que el archivo se llama my-dockerfile, para construir la imagen apartir del docker file usamos el comando:\n",
    "\n",
    "- docker build -t <\"IMAGE-NAME\"> -f <\"FILE_NAME\">"
   ]
  },
  {
   "cell_type": "markdown",
   "metadata": {},
   "source": [
    "# Dangling Images (Imagenes huerfana) <\"none\"> "
   ]
  },
  {
   "cell_type": "markdown",
   "metadata": {},
   "source": [
    "Se soluciona usando los tags, cada vez que realice una modificación en el dockerfile debe existir una nueva imagen o tag."
   ]
  },
  {
   "cell_type": "markdown",
   "metadata": {},
   "source": [
    "#### Listar Imagenes Dangling\n",
    "    - docker images -f dangling=true\n",
    "### Eliminar Imagenes Dangling\n",
    "    - docker images -f dangling=true -q | xargs docker rmi"
   ]
  },
  {
   "cell_type": "markdown",
   "metadata": {},
   "source": [
    "# 5. Multi-Stage-Build"
   ]
  },
  {
   "cell_type": "markdown",
   "metadata": {},
   "source": [
    " Permite usar varios FROM\n",
    " "
   ]
  },
  {
   "cell_type": "code",
   "execution_count": null,
   "metadata": {},
   "outputs": [],
   "source": []
  }
 ],
 "metadata": {
  "kernelspec": {
   "display_name": "Python 3",
   "language": "python",
   "name": "python3"
  },
  "language_info": {
   "codemirror_mode": {
    "name": "ipython",
    "version": 3
   },
   "file_extension": ".py",
   "mimetype": "text/x-python",
   "name": "python",
   "nbconvert_exporter": "python",
   "pygments_lexer": "ipython3",
   "version": "3.7.5"
  }
 },
 "nbformat": 4,
 "nbformat_minor": 2
}

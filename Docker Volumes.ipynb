{
 "cells": [
  {
   "cell_type": "markdown",
   "metadata": {},
   "source": [
    "# Introducción a los volúmenes"
   ]
  },
  {
   "cell_type": "markdown",
   "metadata": {},
   "source": [
    "Los volúmenes permiten almacenar data persistente del contenedor\n",
    "\n",
    "Existen 3 tipos de volúmenes:\n",
    "\n",
    "- <b>Host</b>: Son volúmenes que se almacenan en nuestro LocalHost y que viven dentro de una carpeta que definimos en nuestro file system.\n",
    "- <b>Anonymus</b>: Son los que no definimos y Docker automaticamente genera una carpeta Random y almacena la información.\n",
    "- <b>Named Volumes</b>: Son volúmenes que nosotros creamos, no son carpetas nuestros sino que son administradas por Docker pero que a diferencia de los anoniymus si tienen un Nombre y son manejados netamente por Docker."
   ]
  },
  {
   "cell_type": "markdown",
   "metadata": {},
   "source": [
    "# 1. ¿ Por qué son importantes los volúmenes? "
   ]
  },
  {
   "cell_type": "markdown",
   "metadata": {},
   "source": [
    "Levantamos un contenedor de MySQL\n",
    "\n",
    "- docker run -d -p 3306:3306  --name my-db -e \"MYSQL_ROOT_PASSWORD=12345678\" -e \"MYSQL_DATABASE=docker-db\" -e \"MYSQL_USER=docker-user\" -e \"MYSQL_PASSWORD=87654321\" mysql:5.7\n",
    "\n",
    "Luego nos conectamos de manera local \n",
    "\n",
    "- mysql -u root -h 127.0.0.1 -p12345678"
   ]
  },
  {
   "cell_type": "markdown",
   "metadata": {},
   "source": [
    "# 2. Volúmenes HOST"
   ]
  },
  {
   "cell_type": "markdown",
   "metadata": {},
   "source": [
    "Donde guarda la información mysql, R//: en el directorio /var/lib/mysql\n",
    "\n",
    "Creamos una carpeta para guardar el contenido del contenedor: ejemplo: sudo mkdir mysql en el directorio opt, entonces la información quedaría guardada en la ruta: opt/mysql\n",
    "\n",
    "Creamos un contenedor, definiendo el volumen:\n",
    "\n",
    "- docker run -d --name <\"CONTAINER_NAME\"> -p <\"LOCAL_PORT\">:<\"CONTAINER_PORT\"> -e \"MYSQL_ROOT_PASSWORD=<\"PASS\">\" -v <\"LOCAL_PATH\">:<\"CONTAINER_PATH\"> <\"IMAGE_NAME\">:<\"TAG_NAME\">\n",
    "\n",
    "Ejemplo:\n",
    "\n",
    "- docker run -d --name db -p 3306:3306 -e \"MYSQL_ROOT_PASSWORD=123456789\" -v /opt/mysql:/var/lib/mysql mysql:5.7"
   ]
  },
  {
   "cell_type": "markdown",
   "metadata": {},
   "source": [
    "# 3. Volúmenes anónimos"
   ]
  },
  {
   "cell_type": "markdown",
   "metadata": {},
   "source": [
    "Solo indicamos al momento de crear el contenedor el path de archivos que queremos que se conserven dentro del contenedor, ejemplo:\n",
    "\n",
    "- docker run -d --name <\"CONTAINER_NAME\"> -v <\"CONTAINER_PATH\"> -e \"MYSQL_ROOT_PASSWORD=<\"PASS\">\" -e \"MYSQL_DATABASE=<\"docker_databases\">\" <\"IMAGE_NAME\">:<\"TAG\">\n",
    "\n",
    "\n",
    "Ejemplo:\n",
    "\n",
    "   - docker run -d --name mysql -v /var/lib/mysql -p 3306:3306 -e \"MYSQL_ROOT_PASSWORD=12345678\" -e \"MYSQL_DATABASE=docker-db\" mysql:5.7\n",
    "   \n",
    "Esto creara al azar el volumen \n",
    "\n",
    "Para ver el document root de docker usamos el comando:\n",
    "\n",
    "- docker info | grep -i root\n",
    "\n",
    "##### Resultado\n",
    "\n",
    " <b>Docker Root Dir: /var/lib/docker</b>\n",
    "\n",
    "Luego ingresamos a dicha ruta como sudo\n",
    "\n",
    "1. sudo su\n",
    "2. cd /var/lib/docker\n",
    "\n",
    "A continuación se lista todas las carpetas que emplea docker, ingresamos al apartado de volumes"
   ]
  },
  {
   "cell_type": "markdown",
   "metadata": {},
   "source": [
    "![](images/list_docker_documents.png)"
   ]
  },
  {
   "cell_type": "markdown",
   "metadata": {},
   "source": [
    "Luego de corre el container, docker creara una carpeta con nombre aleatorio para guardar la información de mysql. \n",
    "\n",
    "al explorar los carpetas dentro de volumes encontramos\n",
    "\n",
    "![](images/volumenes.png)\n",
    "\n",
    "\n",
    "#### NOTA: No se recomienda ya que son nombres dificiles de comprender"
   ]
  },
  {
   "cell_type": "markdown",
   "metadata": {},
   "source": [
    "# 4. VOLUMENES dentro de un DOCKERFILE\n",
    "\n",
    "\n",
    "Listar volumenes:\n",
    "\n",
    "- docker volume ls\n",
    "\n",
    "Creamo una imagen con el Dockerfile\n",
    "\n",
    "FROM centos\n",
    "\n",
    "VOLUME /opt/\n",
    "\n",
    "Creamos la images:\n",
    "\n",
    "- docker build -t test-vol -f Dockerfile_vol .\n",
    "\n",
    "Levantamos un contenedor:\n",
    "\n",
    "- docker run -dti--name test test-vol\n",
    "\n",
    "\n",
    "Luego miramos los volumnes y tenemos una carpeta llamada:\n",
    "\n",
    "a7868f0cfb334b1ac4bd03e25c21584e0e439ba9b50bff7e3e8e012e78f1ee01\n",
    "\n",
    "Pero ¿Commo accedemos a dicho volumne fuera del contenedor?\n",
    "\n",
    "1. buscamos el docker file directory con el comando docker info | grep -i root (Docker Root Dir: /var/lib/docker)\n",
    "2. Accedemos a la ruta especificada con SUDO: sudo su y luego cd /var/lib/docker/<b>volumes</b>\n",
    "3. luego ingresamos a la carpeta listada por el volumen y dentro de <b>_data</b>\n",
    "4. dentro de esta carpeta se encuentra los archivo que creamos \n",
    "\n",
    "\n",
    "### OJO : al momento de eliminar los contenedores no usar el parametro -fv  solo usar f ya que la v elimina los volúmenes."
   ]
  },
  {
   "cell_type": "markdown",
   "metadata": {},
   "source": [
    "# 5. Named Volumes (Volúmenes nombrados)\n",
    "\n",
    "Es la union entre un volúmen de host y uno anonimo.\n",
    "\n",
    "Se usa el comando:\n",
    "\n",
    "- docker volume create <\"VOLUME_NAME\">\n",
    "\n",
    "- docker volume ls "
   ]
  },
  {
   "cell_type": "markdown",
   "metadata": {},
   "source": [
    "### ELIMINAR UN VOLUMEN\n",
    "\n",
    "- docker volume rm <\"VOLUME_NAME\">"
   ]
  },
  {
   "cell_type": "markdown",
   "metadata": {},
   "source": [
    "### Asignar volumen a un container\n",
    "\n",
    "- docker run -d --name <\"CONTAINER_NAME\"> -v <\"VOLUME_NAME\">:<\"CONTAINER_PATH\" ...... \n",
    "\n",
    "Ejemplo:\n",
    "\n",
    "- docker run -d --name mysql -v my-vol:/var/lib/mysql -p 3306:3306 -e \"MYSQL_ROOT_PASSWORD=12345678\" -e \"MYSQL_DATABASE=docker-db\" mysql:5.7\n"
   ]
  },
  {
   "cell_type": "markdown",
   "metadata": {},
   "source": [
    "# 6. Dangling Volumes"
   ]
  },
  {
   "cell_type": "markdown",
   "metadata": {},
   "source": [
    "Son volúmenes que ningun contenedor esta utilizando por lo tanto son Basura.\n",
    "\n",
    "Comando para eliminarlos todos es:\n",
    "\n",
    "- docker volume ls -f dangling=true -q | xargs docker volume rm"
   ]
  },
  {
   "cell_type": "markdown",
   "metadata": {},
   "source": [
    "# 7. Persistiendo data de Mongo"
   ]
  },
  {
   "cell_type": "markdown",
   "metadata": {},
   "source": [
    "- Creo una carpeta donde deseo almacenar la data de mongo en mi local\n",
    "\n",
    "Luego creo el container asignando el PATH del volúmen.\n",
    "\n",
    "Ejemplo:\n",
    "\n",
    "- docker run -d -p 27019:27017 -v /opt/mongo:/data/db mongo"
   ]
  },
  {
   "cell_type": "markdown",
   "metadata": {},
   "source": [
    "### Ejecutar un comando sin ingresar al container\n",
    "\n",
    "- docker exec <\"CONTAINER_NAME\"> bash -c \"<\"COMAND\">\""
   ]
  },
  {
   "cell_type": "markdown",
   "metadata": {},
   "source": [
    "# 8. Comparte Volúmenes entre uno o más contenedores."
   ]
  },
  {
   "cell_type": "markdown",
   "metadata": {},
   "source": [
    "Simplemente se juega con la ruta de los volumenes al momento de crearlos "
   ]
  },
  {
   "cell_type": "code",
   "execution_count": null,
   "metadata": {},
   "outputs": [],
   "source": []
  }
 ],
 "metadata": {
  "kernelspec": {
   "display_name": "Python 3",
   "language": "python",
   "name": "python3"
  },
  "language_info": {
   "codemirror_mode": {
    "name": "ipython",
    "version": 3
   },
   "file_extension": ".py",
   "mimetype": "text/x-python",
   "name": "python",
   "nbconvert_exporter": "python",
   "pygments_lexer": "ipython3",
   "version": "3.7.5"
  }
 },
 "nbformat": 4,
 "nbformat_minor": 2
}

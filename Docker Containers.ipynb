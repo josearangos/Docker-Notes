{
 "cells": [
  {
   "cell_type": "markdown",
   "metadata": {},
   "source": [
    "# Contenedores"
   ]
  },
  {
   "cell_type": "markdown",
   "metadata": {},
   "source": [
    "![](images/containers.png)"
   ]
  },
  {
   "cell_type": "markdown",
   "metadata": {},
   "source": [
    "# 1. Comando basicos\n",
    "\n",
    "#### Listar\n",
    "    -docker ps -a\n",
    "#### Correr un contenedor\n",
    "    -docker run -d  <\"IMAGE-NAME\"> #-d se usa para que sea en segundo plano\"#\n",
    "    -docker run -dti --name <\"NAME_CONTAINER\"> <\"IMAGE_NAME\">\n",
    "#### Mapear puerto\n",
    "    -docker run -d -p 8080:8080 <\"IMAGE-NAME\">\n",
    "    -docker run -d -p 9090:8080 <\"IMAGE-NAME\"> el puerto 9090 es el de nuestra maquina y el 8080 es el de docker.\n",
    "#### Eliminar\n",
    "    -docker rm -f <\"CONTAINER_NAME\"> -f es usado para forzar la eliminación.\n",
    "    -docker ps -q | xargs docker rm -f # eliminar todos los contenedor de golpe."
   ]
  },
  {
   "cell_type": "markdown",
   "metadata": {},
   "source": [
    "#### Renombar un contenedor\n",
    "Nota: con docker ps -a puedo ver el nombre del contenedor que esta corriendo \n",
    "\n",
    "    - docker rename <\"CURRENT_NAME\"> <\"NEW_NAME\">\n",
    "#### Stop container\n",
    "\n",
    "    -docker stop <\"CONTAINER_ID | CONTAINER_NAME\">\n",
    "\n",
    "#### Start container\n",
    "\n",
    "    -docker start <\"CONTAINER_ID | CONTAINER_NAME\">\n",
    "    \n",
    "#### Restart container\n",
    "\n",
    "    -docker restart <\"CONTAINER_ID | CONTAINER_NAME\">\n",
    "    "
   ]
  },
  {
   "cell_type": "markdown",
   "metadata": {},
   "source": [
    "# 2. Ingresar a un container"
   ]
  },
  {
   "cell_type": "markdown",
   "metadata": {},
   "source": [
    "    -docker exec -ti <\"CONTAINER_ID | CONTAINER_NAME\"> bash #ti terminal interactiva y bash una terminal bash\n",
    "    -docker exec -u <\"USER_NAME\"> -ti <\"CONTAINER_ID | CONTAINER_NAME\"> bash    # -u root ingresa como superUsuario. definir en el dockerfile el usuario."
   ]
  },
  {
   "cell_type": "markdown",
   "metadata": {},
   "source": [
    "# 3. Variables de entorno"
   ]
  },
  {
   "cell_type": "markdown",
   "metadata": {},
   "source": [
    "Usamos el comando : ENV para crear una variables de entorno:\n",
    "    - ENV <\"NAME\"> <\"VALUE>\n",
    "Si ingresamos al contenedor usando una terminar y escribimos: echo $<\"NAME\"> nos debe salir el nombre de la variables.\n",
    "\n",
    "¿Como crear variables de entorno cuando el contenedor se crea?.\n",
    "\n",
    "- docker run -dti -e \"NAME_ENV = VALUE_ENV\" --name <\"NAME_CONTAINER\"> <\"IMAGE_NAME\">\n",
    "- Ejemplo: docker run -dti -e \"url=wwww.google.com\" --name MY_ENV env_image"
   ]
  },
  {
   "cell_type": "markdown",
   "metadata": {},
   "source": [
    "### docker run --rm -ti ubuntu bash"
   ]
  },
  {
   "cell_type": "markdown",
   "metadata": {},
   "source": [
    "# 4. MySQL\n",
    "\n",
    "- docker pull mysql para bajar la imagen\n",
    "- docker run -d --name <\"BD_NAME\"> -e \"MYSQL_ROOT_PASSWORD=<\"PASSWORD\">\"  mysql:5.7\n",
    "\n",
    "Luego intentamos conectarnos con el comando:\n",
    "    - mysql -u root -p<\"PASSWORD\">\n",
    "y NO podremos ya que no hemos mapeado el puerto del contenedor al momento de crearlo."
   ]
  },
  {
   "cell_type": "markdown",
   "metadata": {},
   "source": [
    "## Conocer dirección IP de un container\n",
    "\n",
    "Ejecutar el comando:\n",
    "\n",
    "-docker inspect <\"CONTAINER_NAME\">\n",
    "\n",
    "\"IPAddress\": \"172.17.0.3\""
   ]
  },
  {
   "cell_type": "markdown",
   "metadata": {},
   "source": [
    "Una vez se sepa la dirección IP del contenedor podremos conectarnos al cliente de mysql\n",
    "\n",
    "    -mysql -u -root -h <\"IP\"> -p<\"PASSWORD\">"
   ]
  },
  {
   "cell_type": "markdown",
   "metadata": {},
   "source": [
    "#### Ejemplo completo\n",
    "\n",
    "- docker run -d -p 3333:3306 --name mysqlContainer -e \"MYSQL_ROOT_PASSWORD=12345678\" -e \"MYSQL_DATABASE=docker\" -e \"MYSQL_USER=docker-user\" -e \"MYSQL_PASSWORD=87654321\" mysql:5.7\n",
    "\n",
    "Luego nos podremos conectar de manera local al mysql del contenedor con el comando\n",
    "\n",
    "- mysql -u root -p12345678 -h 127.0.0.1 --port 3333"
   ]
  },
  {
   "cell_type": "code",
   "execution_count": null,
   "metadata": {},
   "outputs": [],
   "source": []
  }
 ],
 "metadata": {
  "kernelspec": {
   "display_name": "Python 3",
   "language": "python",
   "name": "python3"
  },
  "language_info": {
   "codemirror_mode": {
    "name": "ipython",
    "version": 3
   },
   "file_extension": ".py",
   "mimetype": "text/x-python",
   "name": "python",
   "nbconvert_exporter": "python",
   "pygments_lexer": "ipython3",
   "version": "3.7.5"
  }
 },
 "nbformat": 4,
 "nbformat_minor": 2
}

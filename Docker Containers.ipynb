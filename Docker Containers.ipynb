{
 "cells": [
  {
   "cell_type": "markdown",
   "metadata": {},
   "source": [
    "# Contenedores"
   ]
  },
  {
   "cell_type": "markdown",
   "metadata": {},
   "source": [
    "![](images/containers.png)"
   ]
  },
  {
   "cell_type": "markdown",
   "metadata": {},
   "source": [
    "# 1. Comando basicos\n",
    "\n",
    "#### Listar\n",
    "    -docker ps -a\n",
    "#### Correr un contenedor\n",
    "    -docker run -d  <\"IMAGE-NAME\"> #-d se usa para que sea en segundo plano\"#\n",
    "    -docker run -dti --name <\"NAME_CONTAINER\"> <\"IMAGE_NAME\">\n",
    "#### Mapear puerto\n",
    "    -docker run -d -p 8080:8080 <\"IMAGE-NAME\">\n",
    "    -docker run -d -p 9090:8080 <\"IMAGE-NAME\"> el puerto 9090 es el de nuestra maquina y el 8080 es el de docker.\n",
    "#### Eliminar\n",
    "    -docker rm -f <\"CONTAINER_NAME\"> -f es usado para forzar la eliminación.\n",
    "    -docker ps -q | xargs docker rm -f # eliminar todos los contenedor de golpe."
   ]
  },
  {
   "cell_type": "markdown",
   "metadata": {},
   "source": [
    "#### Renombar un contenedor\n",
    "Nota: con docker ps -a puedo ver el nombre del contenedor que esta corriendo \n",
    "\n",
    "    - docker rename <\"CURRENT_NAME\"> <\"NEW_NAME\">\n",
    "#### Stop container\n",
    "\n",
    "    -docker stop <\"CONTAINER_ID | CONTAINER_NAME\">\n",
    "\n",
    "#### Start container\n",
    "\n",
    "    -docker start <\"CONTAINER_ID | CONTAINER_NAME\">\n",
    "    \n",
    "#### Restart container\n",
    "\n",
    "    -docker restart <\"CONTAINER_ID | CONTAINER_NAME\">\n",
    "\n",
    "#### Estadisticas de consumo del container\n",
    "\n",
    "    -docker stats <\"CONTAINER_NAME\">\n"
   ]
  },
  {
   "cell_type": "markdown",
   "metadata": {},
   "source": [
    "# 2. Ingresar a un container"
   ]
  },
  {
   "cell_type": "markdown",
   "metadata": {},
   "source": [
    "    -docker exec -ti <\"CONTAINER_ID | CONTAINER_NAME\"> bash #ti terminal interactiva y bash una terminal bash\n",
    "    -docker exec -u <\"USER_NAME\"> -ti <\"CONTAINER_ID | CONTAINER_NAME\"> bash    # -u root ingresa como superUsuario. definir en el dockerfile el usuario."
   ]
  },
  {
   "cell_type": "markdown",
   "metadata": {},
   "source": [
    "# 3. Variables de entorno"
   ]
  },
  {
   "cell_type": "markdown",
   "metadata": {},
   "source": [
    "Usamos el comando : ENV para crear una variables de entorno:\n",
    "    - ENV <\"NAME\"> <\"VALUE>\n",
    "Si ingresamos al contenedor usando una terminar y escribimos: echo $<\"NAME\"> nos debe salir el nombre de la variables.\n",
    "\n",
    "¿Como crear variables de entorno cuando el contenedor se crea?.\n",
    "\n",
    "- docker run -dti -e \"NAME_ENV = VALUE_ENV\" --name <\"NAME_CONTAINER\"> <\"IMAGE_NAME\">\n",
    "- Ejemplo: docker run -dti -e \"url=wwww.google.com\" --name MY_ENV env_image"
   ]
  },
  {
   "cell_type": "markdown",
   "metadata": {},
   "source": [
    "### docker run --rm -ti ubuntu bash"
   ]
  },
  {
   "cell_type": "markdown",
   "metadata": {},
   "source": [
    "# 4. MySQL\n",
    "\n",
    "- docker pull mysql para bajar la imagen\n",
    "- docker run -d --name <\"BD_NAME\"> -e \"MYSQL_ROOT_PASSWORD=<\"PASSWORD\">\"  mysql:5.7\n",
    "\n",
    "Luego intentamos conectarnos con el comando:\n",
    "    - mysql -u root -p<\"PASSWORD\">\n",
    "y NO podremos ya que no hemos mapeado el puerto del contenedor al momento de crearlo."
   ]
  },
  {
   "cell_type": "markdown",
   "metadata": {},
   "source": [
    "## Conocer dirección IP de un container\n",
    "\n",
    "Ejecutar el comando:\n",
    "\n",
    "-docker inspect <\"CONTAINER_NAME\">\n",
    "\n",
    "\"IPAddress\": \"172.17.0.3\""
   ]
  },
  {
   "cell_type": "markdown",
   "metadata": {},
   "source": [
    "Una vez se sepa la dirección IP del contenedor podremos conectarnos al cliente de mysql\n",
    "\n",
    "    -mysql -u -root -h <\"IP\"> -p<\"PASSWORD\">"
   ]
  },
  {
   "cell_type": "markdown",
   "metadata": {},
   "source": [
    "#### Ejemplo completo\n",
    "\n",
    "- docker run -d -p 3333:3306 --name mysqlContainer -e \"MYSQL_ROOT_PASSWORD=12345678\" -e \"MYSQL_DATABASE=docker\" -e \"MYSQL_USER=docker-user\" -e \"MYSQL_PASSWORD=87654321\" mysql:5.7\n",
    "\n",
    "Luego nos podremos conectar de manera local al mysql del contenedor con el comando\n",
    "\n",
    "- mysql -u root -p12345678 -h 127.0.0.1 --port 3333"
   ]
  },
  {
   "cell_type": "markdown",
   "metadata": {},
   "source": [
    "# 5. MONGO"
   ]
  },
  {
   "cell_type": "markdown",
   "metadata": {},
   "source": [
    "- docker run -d --name <\"NAME_CONTAINER\"> -p <\"LOCAL_PORT\">:27017 <\"IMAGE_NAME\">\n",
    "\n",
    "ejemplo:\n",
    "\n",
    "- docker run -d --name my-mongo -p 27018:27017 mongo\n"
   ]
  },
  {
   "cell_type": "markdown",
   "metadata": {},
   "source": [
    "# 6. Apache/ Ngnix/ Tomcat"
   ]
  },
  {
   "cell_type": "markdown",
   "metadata": {},
   "source": [
    "- docker run -d -p 8888:80 --name nginx nginx\n",
    "- docker run -d -p 9999:80 --name apache httpd\n",
    "- docker run -d -p 7070:8080 --name my-tomcat tomcat:9.0.8-jre8-alpine"
   ]
  },
  {
   "cell_type": "markdown",
   "metadata": {},
   "source": [
    "# 7. Postgres"
   ]
  },
  {
   "cell_type": "markdown",
   "metadata": {},
   "source": [
    "- docker run -d --name <\"CONTAINER_NAME\"> -e \"POSTGRES_PASSWORD=<\"PASS\">\" -e \"POSTGRES_USER=<\"USER\">\" -e \"POSTGRES_BD=<\"BD_NAME\">\" -p <\"LOCAL_PORT\">:5432 <\"IMAGE_NAME\">"
   ]
  },
  {
   "cell_type": "markdown",
   "metadata": {},
   "source": [
    "# 8. Jenkins"
   ]
  },
  {
   "cell_type": "markdown",
   "metadata": {},
   "source": [
    "   - docker run -d -p 7070:8080 -name <\"CONTAINER_NAME\"> jenkins"
   ]
  },
  {
   "cell_type": "markdown",
   "metadata": {},
   "source": [
    "# 9. Administrar usuarios"
   ]
  },
  {
   "cell_type": "markdown",
   "metadata": {},
   "source": [
    " - docker run -d -ti --name docker_users centos:users\n",
    " - docker exec -u <\"USER_NAME\"> -ti <\"CONTAINER_NAME\"> bash"
   ]
  },
  {
   "cell_type": "markdown",
   "metadata": {},
   "source": [
    "# 10. Limitar recursos a un container"
   ]
  },
  {
   "cell_type": "markdown",
   "metadata": {},
   "source": [
    "si ejecutamos el comando:\n",
    "    - docker stats <\"CONTAINER_NAME\">\n",
    "    \n",
    "![](images/container_request.png)\n",
    "\n",
    "El limite de consumo es el de nuestra memoria RAM."
   ]
  },
  {
   "cell_type": "markdown",
   "metadata": {},
   "source": [
    "### RAM"
   ]
  },
  {
   "cell_type": "markdown",
   "metadata": {},
   "source": [
    "Para poder limitar la memoria RAM usamos el parametro -m :\n",
    "\n",
    "   - docker run -d -m \"500mb\" --name <\"CONTAINER_NAME\"> <\"IMAGE_NAME\">\n",
    "El limite de consumo se limita a 500mb en este caso\n",
    "\n",
    "![](images/memory.png)\n",
    "\n",
    "Tambien se puede usar gb/mb\n",
    "   "
   ]
  },
  {
   "cell_type": "markdown",
   "metadata": {},
   "source": [
    "### CPU"
   ]
  },
  {
   "cell_type": "markdown",
   "metadata": {},
   "source": [
    "Primero listamos cuanta cpu tenemos disponible\n",
    "\n",
    "- grep \"model name\" /proc/cpuinfo | wc -l\n",
    "\n",
    "Luego usamos el parametro --cpuset-cpus 0-#CPU, ejemplo:\n",
    "\n",
    "- docker run -d -m \"1gb\" --cpuset-cpus 0-2 --name <\"CONTAINE_NAME\"> <\"IMAGE_NAME\">, En este caso utiliza 3 cpus, las otras cpus no las usas."
   ]
  },
  {
   "cell_type": "markdown",
   "metadata": {},
   "source": [
    "# 11. Copiar o Extrair archivos a un container\n",
    "\n",
    "usamos el comando cp,este permite copiar archivos fuera del contenedor a dentro del contenedro y en sentido contrario.\n",
    "\n",
    "## Fuera del contenedor a dentro del mismo\n",
    "\n",
    "- docker cp <\"PATH_FILE_LOCAL\"> <\"CONTAINER_NAME\">:<\"PATH_INSIDE_CONTAINER\">, ejemplo:\n",
    "- docker cp index.html apache:/tmp\n",
    "\n",
    "## Dentro del contenedor para fuera\n",
    "\n",
    "- docker cp <\"CONTAINER_NAME\">:<\"PATH_INSIDE_CONTAINER\"> <\"LOCAL_PATH\">, ejemplo:\n",
    "- docker cp apache:/var/log/dpkg.log . # Copiamos el archivo log en el directorio actual.\n",
    "\n"
   ]
  },
  {
   "cell_type": "markdown",
   "metadata": {},
   "source": [
    "# 12. Convertir un contenedor en una imagen!\n",
    "\n",
    "No es buena practica, lo mejor es usar volumenes."
   ]
  },
  {
   "cell_type": "markdown",
   "metadata": {},
   "source": [
    "- docker commit <\"CONTAINER_NAME\"> <\"NEW_IMAGE_NAME\">\n",
    "\n",
    "Solo lo que este fuera de volumen si se guarda, lo que no este dentro de este no se guarda."
   ]
  },
  {
   "cell_type": "markdown",
   "metadata": {},
   "source": [
    "# 13. Sobreescribir el CMD de una imagen sin un Dockerfile"
   ]
  },
  {
   "cell_type": "markdown",
   "metadata": {},
   "source": [
    "Primero corremos un contenedor, para este caso un centos.\n",
    "\n",
    "   - docker run -dti centos\n",
    "  \n",
    "El CMD se sobreescribe agregando el comando CMD que queremos al final del \n",
    "   - docker run -d -p 8080:8080 centos <\"CMD\">, ejemplo:\n",
    "   - docker run -d -p 8080:8080 centos python -m SimpleHTTPServer 8080\n",
    "   "
   ]
  },
  {
   "cell_type": "markdown",
   "metadata": {},
   "source": [
    "# 14. Destruir contenedores automáticamente\n",
    "\n",
    "- docker run --rm -ti --name <\"CONTAINER_NAME\"> <\"IMAGE_NAME\"> bash"
   ]
  },
  {
   "cell_type": "code",
   "execution_count": null,
   "metadata": {},
   "outputs": [],
   "source": []
  }
 ],
 "metadata": {
  "kernelspec": {
   "display_name": "Python 3",
   "language": "python",
   "name": "python3"
  },
  "language_info": {
   "codemirror_mode": {
    "name": "ipython",
    "version": 3
   },
   "file_extension": ".py",
   "mimetype": "text/x-python",
   "name": "python",
   "nbconvert_exporter": "python",
   "pygments_lexer": "ipython3",
   "version": "3.7.5"
  }
 },
 "nbformat": 4,
 "nbformat_minor": 2
}
